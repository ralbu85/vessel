{
 "cells": [
  {
   "cell_type": "code",
   "execution_count": 1,
   "metadata": {
    "collapsed": true,
    "jupyter": {
     "outputs_hidden": true
    }
   },
   "outputs": [
    {
     "name": "stdout",
     "output_type": "stream",
     "text": [
      "Collecting pyod\n",
      "  Downloading pyod-0.8.3.tar.gz (96 kB)\n",
      "\u001b[K     |████████████████████████████████| 96 kB 1.6 MB/s eta 0:00:011\n",
      "\u001b[?25hCollecting combo\n",
      "  Downloading combo-0.1.1.tar.gz (37 kB)\n",
      "Requirement already satisfied: joblib in /usr/local/lib/python3.6/dist-packages (from pyod) (0.16.0)\n",
      "Requirement already satisfied: matplotlib in /usr/local/lib/python3.6/dist-packages (from pyod) (3.3.1)\n",
      "Requirement already satisfied: numpy>=1.13 in /usr/local/lib/python3.6/dist-packages (from pyod) (1.18.5)\n",
      "Collecting numba>=0.35\n",
      "  Downloading numba-0.51.2-cp36-cp36m-manylinux2014_x86_64.whl (3.1 MB)\n",
      "\u001b[K     |████████████████████████████████| 3.1 MB 8.5 MB/s eta 0:00:01\n",
      "\u001b[?25hRequirement already satisfied: pandas>=0.25 in /usr/local/lib/python3.6/dist-packages (from pyod) (1.1.1)\n",
      "Requirement already satisfied: scipy>=0.19.1 in /usr/local/lib/python3.6/dist-packages (from pyod) (1.4.1)\n",
      "Requirement already satisfied: scikit_learn>=0.19.1 in /usr/local/lib/python3.6/dist-packages (from pyod) (0.23.2)\n",
      "Requirement already satisfied: six in /usr/local/lib/python3.6/dist-packages (from pyod) (1.15.0)\n",
      "Collecting statsmodels\n",
      "  Downloading statsmodels-0.12.0-cp36-cp36m-manylinux1_x86_64.whl (9.5 MB)\n",
      "\u001b[K     |████████████████████████████████| 9.5 MB 13.4 MB/s eta 0:00:01\n",
      "\u001b[?25hCollecting suod\n",
      "  Downloading suod-0.0.4.tar.gz (2.1 MB)\n",
      "\u001b[K     |████████████████████████████████| 2.1 MB 13.5 MB/s eta 0:00:01\n",
      "\u001b[?25hRequirement already satisfied: pyparsing!=2.0.4,!=2.1.2,!=2.1.6,>=2.0.3 in /usr/local/lib/python3.6/dist-packages (from matplotlib->pyod) (2.4.7)\n",
      "Requirement already satisfied: python-dateutil>=2.1 in /usr/local/lib/python3.6/dist-packages (from matplotlib->pyod) (2.8.1)\n",
      "Requirement already satisfied: cycler>=0.10 in /usr/local/lib/python3.6/dist-packages (from matplotlib->pyod) (0.10.0)\n",
      "Requirement already satisfied: pillow>=6.2.0 in /usr/local/lib/python3.6/dist-packages (from matplotlib->pyod) (7.2.0)\n",
      "Requirement already satisfied: kiwisolver>=1.0.1 in /usr/local/lib/python3.6/dist-packages (from matplotlib->pyod) (1.2.0)\n",
      "Requirement already satisfied: certifi>=2020.06.20 in /usr/local/lib/python3.6/dist-packages (from matplotlib->pyod) (2020.6.20)\n",
      "Requirement already satisfied: setuptools in /usr/local/lib/python3.6/dist-packages (from numba>=0.35->pyod) (49.6.0)\n",
      "Collecting llvmlite<0.35,>=0.34.0.dev0\n",
      "  Downloading llvmlite-0.34.0-cp36-cp36m-manylinux2010_x86_64.whl (24.6 MB)\n",
      "\u001b[K     |████████████████████████████████| 24.6 MB 11.9 MB/s eta 0:00:01\n",
      "\u001b[?25hRequirement already satisfied: pytz>=2017.2 in /usr/local/lib/python3.6/dist-packages (from pandas>=0.25->pyod) (2020.1)\n",
      "Requirement already satisfied: threadpoolctl>=2.0.0 in /usr/local/lib/python3.6/dist-packages (from scikit_learn>=0.19.1->pyod) (2.1.0)\n",
      "Collecting patsy>=0.5\n",
      "  Downloading patsy-0.5.1-py2.py3-none-any.whl (231 kB)\n",
      "\u001b[K     |████████████████████████████████| 231 kB 13.4 MB/s eta 0:00:01\n",
      "\u001b[?25hBuilding wheels for collected packages: pyod, combo, suod\n",
      "  Building wheel for pyod (setup.py) ... \u001b[?25ldone\n",
      "\u001b[?25h  Created wheel for pyod: filename=pyod-0.8.3-py3-none-any.whl size=110347 sha256=28dc7c4b3f52a9efafca7c3ed6515bef78b81c57465caa0ba871874b608d3408\n",
      "  Stored in directory: /root/.cache/pip/wheels/36/e8/e9/8fb0fbd5ec01e840a6e32ca50329a7638b1aba32aa9d36fbe8\n",
      "  Building wheel for combo (setup.py) ... \u001b[?25ldone\n",
      "\u001b[?25h  Created wheel for combo: filename=combo-0.1.1-py3-none-any.whl size=42113 sha256=ab5799c9bd7a5f18a998ca8a3c76a5cc94b0a7e80a1fc4cc5140f321ce00ef88\n",
      "  Stored in directory: /root/.cache/pip/wheels/66/36/30/c526ec2ea927c0b9ad94aeccd4f5820d258a1dc0b85953913f\n",
      "  Building wheel for suod (setup.py) ... \u001b[?25ldone\n",
      "\u001b[?25h  Created wheel for suod: filename=suod-0.0.4-py3-none-any.whl size=2167157 sha256=678f93d549c500a716fee0e21d7c919b115bd33ed612fa78ef1fd3d1087bf9b6\n",
      "  Stored in directory: /root/.cache/pip/wheels/21/44/a8/ba508e4a93b9554e081c88cd120b027b28a10bef454ca07b5d\n",
      "Successfully built pyod combo suod\n",
      "Installing collected packages: llvmlite, numba, combo, patsy, statsmodels, suod, pyod\n",
      "Successfully installed combo-0.1.1 llvmlite-0.34.0 numba-0.51.2 patsy-0.5.1 pyod-0.8.3 statsmodels-0.12.0 suod-0.0.4\n",
      "\u001b[33mWARNING: You are using pip version 20.2.2; however, version 20.2.3 is available.\n",
      "You should consider upgrading via the '/usr/bin/python3.6 -m pip install --upgrade pip' command.\u001b[0m\n"
     ]
    }
   ],
   "source": [
    "!pip install pyod"
   ]
  },
  {
   "cell_type": "code",
   "execution_count": 2,
   "metadata": {
    "collapsed": true,
    "jupyter": {
     "outputs_hidden": true
    }
   },
   "outputs": [
    {
     "name": "stdout",
     "output_type": "stream",
     "text": [
      "Collecting seaborn\n",
      "  Downloading seaborn-0.11.0-py3-none-any.whl (283 kB)\n",
      "\u001b[K     |████████████████████████████████| 283 kB 944 kB/s eta 0:00:01\n",
      "\u001b[?25hRequirement already satisfied: matplotlib>=2.2 in /usr/local/lib/python3.6/dist-packages (from seaborn) (3.3.1)\n",
      "Requirement already satisfied: numpy>=1.15 in /usr/local/lib/python3.6/dist-packages (from seaborn) (1.18.5)\n",
      "Requirement already satisfied: scipy>=1.0 in /usr/local/lib/python3.6/dist-packages (from seaborn) (1.4.1)\n",
      "Requirement already satisfied: pandas>=0.23 in /usr/local/lib/python3.6/dist-packages (from seaborn) (1.1.1)\n",
      "Requirement already satisfied: certifi>=2020.06.20 in /usr/local/lib/python3.6/dist-packages (from matplotlib>=2.2->seaborn) (2020.6.20)\n",
      "Requirement already satisfied: kiwisolver>=1.0.1 in /usr/local/lib/python3.6/dist-packages (from matplotlib>=2.2->seaborn) (1.2.0)\n",
      "Requirement already satisfied: python-dateutil>=2.1 in /usr/local/lib/python3.6/dist-packages (from matplotlib>=2.2->seaborn) (2.8.1)\n",
      "Requirement already satisfied: cycler>=0.10 in /usr/local/lib/python3.6/dist-packages (from matplotlib>=2.2->seaborn) (0.10.0)\n",
      "Requirement already satisfied: pyparsing!=2.0.4,!=2.1.2,!=2.1.6,>=2.0.3 in /usr/local/lib/python3.6/dist-packages (from matplotlib>=2.2->seaborn) (2.4.7)\n",
      "Requirement already satisfied: pillow>=6.2.0 in /usr/local/lib/python3.6/dist-packages (from matplotlib>=2.2->seaborn) (7.2.0)\n",
      "Requirement already satisfied: pytz>=2017.2 in /usr/local/lib/python3.6/dist-packages (from pandas>=0.23->seaborn) (2020.1)\n",
      "Requirement already satisfied: six>=1.5 in /usr/local/lib/python3.6/dist-packages (from python-dateutil>=2.1->matplotlib>=2.2->seaborn) (1.15.0)\n",
      "Installing collected packages: seaborn\n",
      "Successfully installed seaborn-0.11.0\n",
      "\u001b[33mWARNING: You are using pip version 20.2.2; however, version 20.2.3 is available.\n",
      "You should consider upgrading via the '/usr/bin/python3.6 -m pip install --upgrade pip' command.\u001b[0m\n"
     ]
    }
   ],
   "source": [
    "!pip install seaborn"
   ]
  },
  {
   "cell_type": "code",
   "execution_count": 5,
   "metadata": {
    "collapsed": true,
    "jupyter": {
     "outputs_hidden": true
    }
   },
   "outputs": [
    {
     "name": "stdout",
     "output_type": "stream",
     "text": [
      "Hit:1 http://security.ubuntu.com/ubuntu bionic-security InRelease\n",
      "Hit:2 http://ppa.launchpad.net/deadsnakes/ppa/ubuntu bionic InRelease    \n",
      "Hit:3 http://archive.ubuntu.com/ubuntu bionic InRelease                  \n",
      "Hit:4 http://archive.ubuntu.com/ubuntu bionic-updates InRelease\n",
      "Hit:5 http://archive.ubuntu.com/ubuntu bionic-backports InRelease\n",
      "Reading package lists... Done                     \n",
      "Reading package lists... Done\n",
      "Building dependency tree       \n",
      "Reading state information... Done\n",
      "libgeos-dev is already the newest version (3.6.2-1build2).\n",
      "0 upgraded, 0 newly installed, 0 to remove and 69 not upgraded.\n",
      "Collecting https://github.com/matplotlib/basemap/archive/master.zip\n",
      "\u001b[33m  WARNING: Retrying (Retry(total=4, connect=None, read=None, redirect=None, status=None)) after connection broken by 'NewConnectionError('<pip._vendor.urllib3.connection.HTTPSConnection object at 0x7f6e6dcf4e48>: Failed to establish a new connection: [Errno 111] Connection refused',)': /matplotlib/basemap/zip/master\u001b[0m\n",
      "\u001b[33m  WARNING: Retrying (Retry(total=3, connect=None, read=None, redirect=None, status=None)) after connection broken by 'NewConnectionError('<pip._vendor.urllib3.connection.HTTPSConnection object at 0x7f6e6dcf4c50>: Failed to establish a new connection: [Errno 111] Connection refused',)': /matplotlib/basemap/zip/master\u001b[0m\n",
      "  Downloading https://github.com/matplotlib/basemap/archive/master.zip (133.1 MB)\n",
      "\u001b[K     |████████████████████████████████| 133.1 MB 10.7 MB/s eta 0:00:01\n",
      "\u001b[?25hRequirement already satisfied: matplotlib!=3.0.1,>=1.0.0 in /usr/local/lib/python3.6/dist-packages (from basemap==1.2.1) (3.3.1)\n",
      "Requirement already satisfied: numpy>=1.2.1 in /usr/local/lib/python3.6/dist-packages (from basemap==1.2.1) (1.18.5)\n",
      "Collecting pyproj>=1.9.3\n",
      "  Downloading pyproj-2.6.1.post1-cp36-cp36m-manylinux2010_x86_64.whl (10.9 MB)\n",
      "\u001b[K     |████████████████████████████████| 10.9 MB 12.3 MB/s eta 0:00:01\n",
      "\u001b[?25hCollecting pyshp>=1.2.0\n",
      "  Downloading pyshp-2.1.2.tar.gz (217 kB)\n",
      "\u001b[K     |████████████████████████████████| 217 kB 13.5 MB/s eta 0:00:01\n",
      "\u001b[?25hRequirement already satisfied: six in /usr/local/lib/python3.6/dist-packages (from basemap==1.2.1) (1.15.0)\n",
      "Requirement already satisfied: pyparsing!=2.0.4,!=2.1.2,!=2.1.6,>=2.0.3 in /usr/local/lib/python3.6/dist-packages (from matplotlib!=3.0.1,>=1.0.0->basemap==1.2.1) (2.4.7)\n",
      "Requirement already satisfied: cycler>=0.10 in /usr/local/lib/python3.6/dist-packages (from matplotlib!=3.0.1,>=1.0.0->basemap==1.2.1) (0.10.0)\n",
      "Requirement already satisfied: kiwisolver>=1.0.1 in /usr/local/lib/python3.6/dist-packages (from matplotlib!=3.0.1,>=1.0.0->basemap==1.2.1) (1.2.0)\n",
      "Requirement already satisfied: certifi>=2020.06.20 in /usr/local/lib/python3.6/dist-packages (from matplotlib!=3.0.1,>=1.0.0->basemap==1.2.1) (2020.6.20)\n",
      "Requirement already satisfied: pillow>=6.2.0 in /usr/local/lib/python3.6/dist-packages (from matplotlib!=3.0.1,>=1.0.0->basemap==1.2.1) (7.2.0)\n",
      "Requirement already satisfied: python-dateutil>=2.1 in /usr/local/lib/python3.6/dist-packages (from matplotlib!=3.0.1,>=1.0.0->basemap==1.2.1) (2.8.1)\n",
      "Building wheels for collected packages: basemap, pyshp\n",
      "  Building wheel for basemap (setup.py) ... \u001b[?25ldone\n",
      "\u001b[?25h  Created wheel for basemap: filename=basemap-1.2.1-cp36-cp36m-linux_x86_64.whl size=121756187 sha256=76e3ea04230b8e6b856eb443abc7c5674095e278fc89bed2b834682c112f7fbb\n",
      "  Stored in directory: /tmp/pip-ephem-wheel-cache-93ovl9cy/wheels/b2/eb/0c/9c11a58931f4e89206035c791d39a5ea9afe32dc43caa27538\n",
      "  Building wheel for pyshp (setup.py) ... \u001b[?25ldone\n",
      "\u001b[?25h  Created wheel for pyshp: filename=pyshp-2.1.2-py3-none-any.whl size=36216 sha256=09222f81035196dd5d6cde7e72ae8405859c01b2cc2d9935cbf72f04b8c90534\n",
      "  Stored in directory: /root/.cache/pip/wheels/46/92/1f/da511e0345d65a2d4d7b6608ec1d22a4eaa35382adfc4ed30e\n",
      "Successfully built basemap pyshp\n",
      "Installing collected packages: pyproj, pyshp, basemap\n",
      "Successfully installed basemap-1.2.1 pyproj-2.6.1.post1 pyshp-2.1.2\n",
      "\u001b[33mWARNING: You are using pip version 20.2.2; however, version 20.2.3 is available.\n",
      "You should consider upgrading via the '/usr/bin/python3.6 -m pip install --upgrade pip' command.\u001b[0m\n",
      "Collecting pyproj==1.9.6\n",
      "  Downloading pyproj-1.9.6.tar.gz (2.8 MB)\n",
      "\u001b[K     |████████████████████████████████| 2.8 MB 1.6 MB/s eta 0:00:01\n",
      "\u001b[?25hBuilding wheels for collected packages: pyproj\n",
      "  Building wheel for pyproj (setup.py) ... \u001b[?25ldone\n",
      "\u001b[?25h  Created wheel for pyproj: filename=pyproj-1.9.6-cp36-cp36m-linux_x86_64.whl size=3702122 sha256=aada961e31feee356f60d8df5025a08a3314839097e3d5cbacbc5402e2a9d128\n",
      "  Stored in directory: /root/.cache/pip/wheels/8b/6f/28/ea8bd5232ef5e82d6eae44cb4b6e491b3ed2fccb7eff813712\n",
      "Successfully built pyproj\n",
      "Installing collected packages: pyproj\n",
      "  Attempting uninstall: pyproj\n",
      "    Found existing installation: pyproj 2.6.1.post1\n",
      "    Uninstalling pyproj-2.6.1.post1:\n",
      "      Successfully uninstalled pyproj-2.6.1.post1\n",
      "Successfully installed pyproj-1.9.6\n",
      "\u001b[33mWARNING: You are using pip version 20.2.2; however, version 20.2.3 is available.\n",
      "You should consider upgrading via the '/usr/bin/python3.6 -m pip install --upgrade pip' command.\u001b[0m\n"
     ]
    }
   ],
   "source": [
    "!sudo apt-get update -y\n",
    "!sudo apt-get install -y libgeos-dev\n",
    "!pip install https://github.com/matplotlib/basemap/archive/master.zip\n",
    "!pip install pyproj==1.9.6"
   ]
  },
  {
   "cell_type": "code",
   "execution_count": 6,
   "metadata": {},
   "outputs": [],
   "source": [
    "from mpl_toolkits.basemap import Basemap\n",
    "import matplotlib.pyplot as plt"
   ]
  }
 ],
 "metadata": {
  "kernelspec": {
   "display_name": "Python 3",
   "language": "python",
   "name": "python3"
  },
  "language_info": {
   "codemirror_mode": {
    "name": "ipython",
    "version": 3
   },
   "file_extension": ".py",
   "mimetype": "text/x-python",
   "name": "python",
   "nbconvert_exporter": "python",
   "pygments_lexer": "ipython3",
   "version": "3.6.9"
  }
 },
 "nbformat": 4,
 "nbformat_minor": 4
}
